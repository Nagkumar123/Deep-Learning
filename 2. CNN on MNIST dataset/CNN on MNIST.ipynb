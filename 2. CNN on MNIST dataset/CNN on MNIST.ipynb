{
 "cells": [
  {
   "cell_type": "code",
   "execution_count": 1,
   "metadata": {
    "colab": {},
    "colab_type": "code",
    "id": "5GjyvLXFHbbL"
   },
   "outputs": [
    {
     "name": "stderr",
     "output_type": "stream",
     "text": [
      "Using TensorFlow backend.\n"
     ]
    }
   ],
   "source": [
    "#Import statements\n",
    "from __future__ import print_function\n",
    "import keras\n",
    "import warnings\n",
    "warnings.filterwarnings(\"ignore\")\n",
    "from keras.datasets import mnist\n",
    "from keras.models import Sequential\n",
    "from keras.layers import Dense, Dropout, Flatten\n",
    "from keras.layers import Conv2D, MaxPooling2D\n",
    "from keras.layers import Dropout, BatchNormalization\n",
    "from keras import backend as K\n",
    "from keras.optimizers import Adam, Adadelta\n",
    "from keras.losses import categorical_crossentropy\n",
    "from prettytable import PrettyTable    "
   ]
  },
  {
   "cell_type": "code",
   "execution_count": 0,
   "metadata": {
    "colab": {},
    "colab_type": "code",
    "id": "ySpHnGamHbbR"
   },
   "outputs": [],
   "source": [
    "# Model parameters\n",
    "batch_size = 128\n",
    "num_classes = 10\n",
    "epoch = 12\n",
    "# input image dimensions\n",
    "img_rows, img_cols = 28, 28"
   ]
  },
  {
   "cell_type": "code",
   "execution_count": 3,
   "metadata": {
    "colab": {
     "base_uri": "https://localhost:8080/",
     "height": 51
    },
    "colab_type": "code",
    "id": "ZptQJnoSHbbV",
    "outputId": "13b10bcb-37db-453a-85e2-467b49f53f34"
   },
   "outputs": [
    {
     "name": "stdout",
     "output_type": "stream",
     "text": [
      "Downloading data from https://s3.amazonaws.com/img-datasets/mnist.npz\n",
      "11493376/11490434 [==============================] - 1s 0us/step\n"
     ]
    }
   ],
   "source": [
    "# loading and splitting the data\n",
    "(x_train, y_train), (x_test, y_test) = mnist.load_data()\n",
    "\n",
    "if K.image_data_format() == 'channels_first':\n",
    "    x_train = x_train.reshape(x_train.shape[0], 1, img_rows, img_cols)\n",
    "    x_test = x_test.reshape(x_test.shape[0], 1, img_rows, img_cols)\n",
    "    input_shape = (1, img_rows, img_cols)\n",
    "else:\n",
    "    x_train = x_train.reshape(x_train.shape[0], img_rows, img_cols, 1)\n",
    "    x_test = x_test.reshape(x_test.shape[0], img_rows, img_cols, 1)\n",
    "    input_shape = (img_rows, img_cols, 1)"
   ]
  },
  {
   "cell_type": "code",
   "execution_count": 4,
   "metadata": {
    "colab": {
     "base_uri": "https://localhost:8080/",
     "height": 68
    },
    "colab_type": "code",
    "id": "6tAWsgABHbba",
    "outputId": "37d405e3-4624-4882-8bc6-1eec69778600"
   },
   "outputs": [
    {
     "name": "stdout",
     "output_type": "stream",
     "text": [
      "x_train shape: (60000, 28, 28, 1)\n",
      "60000 train samples\n",
      "10000 test samples\n"
     ]
    }
   ],
   "source": [
    "#Normalization\n",
    "x_train = x_train.astype('float32')\n",
    "x_test = x_test.astype('float32')\n",
    "x_train /= 255\n",
    "x_test /= 255\n",
    "print('x_train shape:', x_train.shape)\n",
    "print(x_train.shape[0], 'train samples')\n",
    "print(x_test.shape[0], 'test samples')"
   ]
  },
  {
   "cell_type": "code",
   "execution_count": 0,
   "metadata": {
    "colab": {},
    "colab_type": "code",
    "id": "h3hNk6YsHbbg"
   },
   "outputs": [],
   "source": [
    "# convert class vectors to binary class matrices\n",
    "y_train = keras.utils.to_categorical(y_train, num_classes)\n",
    "y_test = keras.utils.to_categorical(y_test, num_classes)"
   ]
  },
  {
   "cell_type": "code",
   "execution_count": 0,
   "metadata": {
    "colab": {},
    "colab_type": "code",
    "id": "po3rDzJNHbbj"
   },
   "outputs": [],
   "source": [
    "import matplotlib.pyplot as plt\n",
    "import numpy as np\n",
    "import time\n",
    "# https://gist.github.com/greydanus/f6eee59eaf1d90fcb3b534a25362cea4\n",
    "# https://stackoverflow.com/a/14434334\n",
    "# this function is used to update the plots for each epoch and error\n",
    "def plt_dynamic(x, vy, ty, ax, colors=['b']):\n",
    "    ax.plot(x, vy, 'b', label=\"Validation Loss\")\n",
    "    ax.plot(x, ty, 'r', label=\"Train Loss\")\n",
    "    plt.legend()\n",
    "    plt.grid()\n",
    "    fig.canvas.draw()"
   ]
  },
  {
   "cell_type": "markdown",
   "metadata": {
    "colab_type": "text",
    "id": "40t02J4rHbbl"
   },
   "source": [
    "<b>1. 1 CNN(3 layers)+ relu + adam +Batch normalization + Dropout with kernel size = (3*3)</b>"
   ]
  },
  {
   "cell_type": "code",
   "execution_count": 0,
   "metadata": {
    "colab": {
     "base_uri": "https://localhost:8080/",
     "height": 544
    },
    "colab_type": "code",
    "id": "eoT0UFatHbbm",
    "outputId": "c1fc4f85-d829-47f9-8753-0a2ec402c501"
   },
   "outputs": [
    {
     "name": "stdout",
     "output_type": "stream",
     "text": [
      "_________________________________________________________________\n",
      "Layer (type)                 Output Shape              Param #   \n",
      "=================================================================\n",
      "conv2d_7 (Conv2D)            (None, 26, 26, 64)        640       \n",
      "_________________________________________________________________\n",
      "max_pooling2d_7 (MaxPooling2 (None, 13, 13, 64)        0         \n",
      "_________________________________________________________________\n",
      "conv2d_8 (Conv2D)            (None, 11, 11, 32)        18464     \n",
      "_________________________________________________________________\n",
      "batch_normalization_5 (Batch (None, 11, 11, 32)        44        \n",
      "_________________________________________________________________\n",
      "max_pooling2d_8 (MaxPooling2 (None, 5, 5, 32)          0         \n",
      "_________________________________________________________________\n",
      "conv2d_9 (Conv2D)            (None, 3, 3, 16)          4624      \n",
      "_________________________________________________________________\n",
      "batch_normalization_6 (Batch (None, 3, 3, 16)          12        \n",
      "_________________________________________________________________\n",
      "max_pooling2d_9 (MaxPooling2 (None, 1, 1, 16)          0         \n",
      "_________________________________________________________________\n",
      "flatten_3 (Flatten)          (None, 16)                0         \n",
      "_________________________________________________________________\n",
      "dense_5 (Dense)              (None, 256)               4352      \n",
      "_________________________________________________________________\n",
      "dropout_3 (Dropout)          (None, 256)               0         \n",
      "_________________________________________________________________\n",
      "dense_6 (Dense)              (None, 10)                2570      \n",
      "=================================================================\n",
      "Total params: 30,706\n",
      "Trainable params: 30,678\n",
      "Non-trainable params: 28\n",
      "_________________________________________________________________\n"
     ]
    }
   ],
   "source": [
    "model=Sequential()\n",
    "# Adding first layer\n",
    "model.add(Conv2D(64, kernel_size=(3, 3),activation='relu',input_shape=input_shape))\n",
    "model.add(MaxPooling2D(pool_size=(2, 2)))\n",
    "\n",
    "# Adding Second layer\n",
    "model.add(Conv2D(32, kernel_size=(3, 3), activation='relu'))\n",
    "model.add(BatchNormalization(axis=1))\n",
    "model.add(MaxPooling2D(pool_size=(2,2)))\n",
    "\n",
    "# Adding third layer\n",
    "model.add(Conv2D(16, kernel_size=(3, 3), activation='relu'))\n",
    "#axis=1 since we are using channels_first data format\n",
    "model.add(BatchNormalization(axis=1))\n",
    "model.add(MaxPooling2D(pool_size=(2,2)))\n",
    "\n",
    "model.add(Flatten())\n",
    "model.add(Dense(256, activation='relu'))\n",
    "model.add(Dropout(0.5))\n",
    "\n",
    "#Softmax\n",
    "model.add(Dense(num_classes, activation='softmax'))\n",
    "model.summary()"
   ]
  },
  {
   "cell_type": "code",
   "execution_count": 0,
   "metadata": {
    "colab": {
     "base_uri": "https://localhost:8080/",
     "height": 442
    },
    "colab_type": "code",
    "id": "5PTneuCPHbbo",
    "outputId": "8f7594b3-c160-4828-afa8-7b461149fad0"
   },
   "outputs": [
    {
     "name": "stdout",
     "output_type": "stream",
     "text": [
      "Train on 60000 samples, validate on 10000 samples\n",
      "Epoch 1/12\n",
      "60000/60000 [==============================] - 70s 1ms/step - loss: 0.4069 - acc: 0.8740 - val_loss: 0.1157 - val_acc: 0.9648\n",
      "Epoch 2/12\n",
      "60000/60000 [==============================] - 69s 1ms/step - loss: 0.1156 - acc: 0.9662 - val_loss: 0.0784 - val_acc: 0.9768\n",
      "Epoch 3/12\n",
      "60000/60000 [==============================] - 69s 1ms/step - loss: 0.0866 - acc: 0.9737 - val_loss: 0.0675 - val_acc: 0.9792\n",
      "Epoch 4/12\n",
      "60000/60000 [==============================] - 69s 1ms/step - loss: 0.0712 - acc: 0.9782 - val_loss: 0.0672 - val_acc: 0.9803\n",
      "Epoch 5/12\n",
      "60000/60000 [==============================] - 69s 1ms/step - loss: 0.0608 - acc: 0.9812 - val_loss: 0.0615 - val_acc: 0.9817\n",
      "Epoch 6/12\n",
      "60000/60000 [==============================] - 69s 1ms/step - loss: 0.0511 - acc: 0.9842 - val_loss: 0.0536 - val_acc: 0.9837\n",
      "Epoch 7/12\n",
      "60000/60000 [==============================] - 69s 1ms/step - loss: 0.0462 - acc: 0.9862 - val_loss: 0.0629 - val_acc: 0.9820\n",
      "Epoch 8/12\n",
      "60000/60000 [==============================] - 69s 1ms/step - loss: 0.0429 - acc: 0.9868 - val_loss: 0.0501 - val_acc: 0.9849\n",
      "Epoch 9/12\n",
      "60000/60000 [==============================] - 69s 1ms/step - loss: 0.0383 - acc: 0.9879 - val_loss: 0.0571 - val_acc: 0.9829\n",
      "Epoch 10/12\n",
      "60000/60000 [==============================] - 68s 1ms/step - loss: 0.0367 - acc: 0.9884 - val_loss: 0.0549 - val_acc: 0.9828\n",
      "Epoch 11/12\n",
      "60000/60000 [==============================] - 69s 1ms/step - loss: 0.0334 - acc: 0.9890 - val_loss: 0.0539 - val_acc: 0.9836\n",
      "Epoch 12/12\n",
      "60000/60000 [==============================] - 68s 1ms/step - loss: 0.0305 - acc: 0.9898 - val_loss: 0.0534 - val_acc: 0.9860\n"
     ]
    }
   ],
   "source": [
    "model.compile(loss='categorical_crossentropy', optimizer=Adam(), metrics=['accuracy'])\n",
    "history=model.fit(x_train, y_train,batch_size=batch_size,epochs=epoch,verbose=1,validation_data=(x_test, y_test))"
   ]
  },
  {
   "cell_type": "code",
   "execution_count": 0,
   "metadata": {
    "colab": {
     "base_uri": "https://localhost:8080/",
     "height": 317
    },
    "colab_type": "code",
    "id": "xQj4GEQSHbbu",
    "outputId": "d3ba5863-552d-48ba-f5d7-3d95b02ba3a9"
   },
   "outputs": [
    {
     "name": "stdout",
     "output_type": "stream",
     "text": [
      "Test score: 0.05342528630345478\n",
      "Test accuracy: 0.986\n"
     ]
    },
    {
     "data": {
      "image/png": "[encoded data removed]",
      "text/plain": [
       "<Figure size 432x288 with 1 Axes>"
      ]
     },
     "metadata": {
      "tags": []
     },
     "output_type": "display_data"
    }
   ],
   "source": [
    "score = model.evaluate(x_test, y_test, verbose=0) \n",
    "print('Test score:', score[0]) \n",
    "print('Test accuracy:', score[1])\n",
    "\n",
    "fig,ax = plt.subplots(1,1)\n",
    "ax.set_xlabel('epoch') ; ax.set_ylabel('Categorical Crossentropy Loss')\n",
    "\n",
    "# list of epoch numbers\n",
    "x = list(range(1,epoch+1))\n",
    "\n",
    "vy = history.history['val_loss']\n",
    "ty = history.history['loss']\n",
    "plt_dynamic(x, vy, ty, ax)"
   ]
  },
  {
   "cell_type": "markdown",
   "metadata": {
    "colab_type": "text",
    "id": "-ye2ihtjHbbx"
   },
   "source": [
    "<b>1. 2 CNN(5 layers)+ relu + adam +Batch normalization + Dropout with kernel size = (5*5)</b>"
   ]
  },
  {
   "cell_type": "code",
   "execution_count": 23,
   "metadata": {
    "colab": {
     "base_uri": "https://localhost:8080/",
     "height": 714
    },
    "colab_type": "code",
    "id": "pwqvQAtnHbbx",
    "outputId": "e40a4495-9e9e-4715-9a69-f817e04976c0"
   },
   "outputs": [
    {
     "name": "stdout",
     "output_type": "stream",
     "text": [
      "_________________________________________________________________\n",
      "Layer (type)                 Output Shape              Param #   \n",
      "=================================================================\n",
      "conv2d_71 (Conv2D)           (None, 24, 24, 40)        1040      \n",
      "_________________________________________________________________\n",
      "dropout_43 (Dropout)         (None, 24, 24, 40)        0         \n",
      "_________________________________________________________________\n",
      "conv2d_72 (Conv2D)           (None, 20, 20, 60)        60060     \n",
      "_________________________________________________________________\n",
      "dropout_44 (Dropout)         (None, 20, 20, 60)        0         \n",
      "_________________________________________________________________\n",
      "max_pooling2d_40 (MaxPooling (None, 20, 20, 60)        0         \n",
      "_________________________________________________________________\n",
      "conv2d_73 (Conv2D)           (None, 16, 16, 70)        105070    \n",
      "_________________________________________________________________\n",
      "dropout_45 (Dropout)         (None, 16, 16, 70)        0         \n",
      "_________________________________________________________________\n",
      "batch_normalization_26 (Batc (None, 16, 16, 70)        64        \n",
      "_________________________________________________________________\n",
      "conv2d_74 (Conv2D)           (None, 12, 12, 90)        157590    \n",
      "_________________________________________________________________\n",
      "max_pooling2d_41 (MaxPooling (None, 6, 6, 90)          0         \n",
      "_________________________________________________________________\n",
      "batch_normalization_27 (Batc (None, 6, 6, 90)          24        \n",
      "_________________________________________________________________\n",
      "conv2d_75 (Conv2D)           (None, 2, 2, 100)         225100    \n",
      "_________________________________________________________________\n",
      "max_pooling2d_42 (MaxPooling (None, 2, 2, 100)         0         \n",
      "_________________________________________________________________\n",
      "flatten_15 (Flatten)         (None, 400)               0         \n",
      "_________________________________________________________________\n",
      "dense_29 (Dense)             (None, 512)               205312    \n",
      "_________________________________________________________________\n",
      "dropout_46 (Dropout)         (None, 512)               0         \n",
      "_________________________________________________________________\n",
      "dense_30 (Dense)             (None, 10)                5130      \n",
      "=================================================================\n",
      "Total params: 759,390\n",
      "Trainable params: 759,346\n",
      "Non-trainable params: 44\n",
      "_________________________________________________________________\n"
     ]
    }
   ],
   "source": [
    "model = Sequential()\n",
    "\n",
    "# Adding first layer\n",
    "model.add(Conv2D(40, kernel_size = (5, 5), activation = \"relu\", input_shape = input_shape))\n",
    "model.add(Dropout(0.25))\n",
    "\n",
    "# Adding second layer\n",
    "model.add(Conv2D(60, kernel_size = (5, 5), activation = \"relu\"))\n",
    "model.add(Dropout(0.25))\n",
    "model.add(MaxPooling2D(pool_size = (1, 1)))\n",
    "\n",
    "\n",
    "# Adding third layer\n",
    "model.add(Conv2D(70, kernel_size = (5, 5), activation = \"relu\"))\n",
    "model.add(Dropout(0.25))\n",
    "model.add(BatchNormalization(axis=1))\n",
    "\n",
    "# Adding fourth layer\n",
    "model.add(Conv2D(90, kernel_size = (5, 5), activation = \"relu\"))\n",
    "model.add(MaxPooling2D(pool_size = (2, 2)))\n",
    "model.add(BatchNormalization(axis=1))\n",
    "\n",
    "# Adding fifth layer\n",
    "model.add(Conv2D(100, kernel_size = (5, 5), activation = \"relu\"))\n",
    "model.add(MaxPooling2D(pool_size = (1, 1)))\n",
    "\n",
    "model.add(Flatten())\n",
    "model.add(Dense(512, activation = \"relu\"))\n",
    "model.add(Dropout(0.5))\n",
    "\n",
    "#Softmax\n",
    "model.add(Dense(num_classes, activation = \"softmax\"))\n",
    "model.summary()"
   ]
  },
  {
   "cell_type": "code",
   "execution_count": 24,
   "metadata": {
    "colab": {
     "base_uri": "https://localhost:8080/",
     "height": 442
    },
    "colab_type": "code",
    "id": "JTUZqMrgHbb1",
    "outputId": "f382f1b5-7a85-4b47-e480-509a84baa09c"
   },
   "outputs": [
    {
     "name": "stdout",
     "output_type": "stream",
     "text": [
      "Train on 60000 samples, validate on 10000 samples\n",
      "Epoch 1/12\n",
      "60000/60000 [==============================] - 960s 16ms/step - loss: 0.2118 - acc: 0.9349 - val_loss: 0.0499 - val_acc: 0.9849\n",
      "Epoch 2/12\n",
      "60000/60000 [==============================] - 958s 16ms/step - loss: 0.0645 - acc: 0.9819 - val_loss: 0.0358 - val_acc: 0.9900\n",
      "Epoch 3/12\n",
      "60000/60000 [==============================] - 959s 16ms/step - loss: 0.0483 - acc: 0.9863 - val_loss: 0.0264 - val_acc: 0.9925\n",
      "Epoch 4/12\n",
      "60000/60000 [==============================] - 961s 16ms/step - loss: 0.0395 - acc: 0.9888 - val_loss: 0.0300 - val_acc: 0.9913\n",
      "Epoch 5/12\n",
      "60000/60000 [==============================] - 960s 16ms/step - loss: 0.0382 - acc: 0.9895 - val_loss: 0.0290 - val_acc: 0.9913\n",
      "Epoch 6/12\n",
      "60000/60000 [==============================] - 961s 16ms/step - loss: 0.0304 - acc: 0.9919 - val_loss: 0.0334 - val_acc: 0.9909\n",
      "Epoch 7/12\n",
      "60000/60000 [==============================] - 968s 16ms/step - loss: 0.0281 - acc: 0.9918 - val_loss: 0.0263 - val_acc: 0.9928\n",
      "Epoch 8/12\n",
      "60000/60000 [==============================] - 950s 16ms/step - loss: 0.0294 - acc: 0.9921 - val_loss: 0.0319 - val_acc: 0.9917\n",
      "Epoch 9/12\n",
      "60000/60000 [==============================] - 946s 16ms/step - loss: 0.0255 - acc: 0.9931 - val_loss: 0.0350 - val_acc: 0.9928\n",
      "Epoch 10/12\n",
      "60000/60000 [==============================] - 952s 16ms/step - loss: 0.0233 - acc: 0.9936 - val_loss: 0.0249 - val_acc: 0.9923\n",
      "Epoch 11/12\n",
      "60000/60000 [==============================] - 948s 16ms/step - loss: 0.0225 - acc: 0.9940 - val_loss: 0.0367 - val_acc: 0.9905\n",
      "Epoch 12/12\n",
      "60000/60000 [==============================] - 950s 16ms/step - loss: 0.0234 - acc: 0.9935 - val_loss: 0.0272 - val_acc: 0.9932\n"
     ]
    }
   ],
   "source": [
    "model.compile(loss='categorical_crossentropy', optimizer=Adam(), metrics=['accuracy'])\n",
    "history=model.fit(x_train, y_train,batch_size=batch_size,epochs=epoch,verbose=1,validation_data=(x_test, y_test))"
   ]
  },
  {
   "cell_type": "code",
   "execution_count": 25,
   "metadata": {
    "colab": {
     "base_uri": "https://localhost:8080/",
     "height": 317
    },
    "colab_type": "code",
    "id": "MJ41Y9hAHbb4",
    "outputId": "9f2950f3-f2b9-4f68-c5e7-d637e29d11df"
   },
   "outputs": [
    {
     "name": "stdout",
     "output_type": "stream",
     "text": [
      "Test score: 0.027181752927140496\n",
      "Test accuracy: 0.9932\n"
     ]
    },
    {
     "data": {
      "image/png": "[encoded data removed]",
      "text/plain": [
       "<Figure size 432x288 with 1 Axes>"
      ]
     },
     "metadata": {
      "tags": []
     },
     "output_type": "display_data"
    }
   ],
   "source": [
    "score = model.evaluate(x_test, y_test, verbose=0) \n",
    "print('Test score:', score[0]) \n",
    "print('Test accuracy:', score[1])\n",
    "\n",
    "fig,ax = plt.subplots(1,1)\n",
    "ax.set_xlabel('epoch') ; ax.set_ylabel('Categorical Crossentropy Loss')\n",
    "\n",
    "# list of epoch numbers\n",
    "x = list(range(1,epoch+1))\n",
    "\n",
    "vy = history.history['val_loss']\n",
    "ty = history.history['loss']\n",
    "plt_dynamic(x, vy, ty, ax)"
   ]
  },
  {
   "cell_type": "markdown",
   "metadata": {
    "colab_type": "text",
    "id": "fIUCfZwVHbb9"
   },
   "source": [
    "<b>1. 3 CNN(7 layers)+ relu + adam +Batch normalization + Dropout with various kernel sizes</b>"
   ]
  },
  {
   "cell_type": "code",
   "execution_count": 26,
   "metadata": {
    "colab": {
     "base_uri": "https://localhost:8080/",
     "height": 986
    },
    "colab_type": "code",
    "id": "s1sDWEGOHbb-",
    "outputId": "882a0197-2e25-4d7c-c1a5-e33ae1000674"
   },
   "outputs": [
    {
     "name": "stdout",
     "output_type": "stream",
     "text": [
      "_________________________________________________________________\n",
      "Layer (type)                 Output Shape              Param #   \n",
      "=================================================================\n",
      "conv2d_76 (Conv2D)           (None, 22, 22, 128)       6400      \n",
      "_________________________________________________________________\n",
      "dropout_47 (Dropout)         (None, 22, 22, 128)       0         \n",
      "_________________________________________________________________\n",
      "max_pooling2d_43 (MaxPooling (None, 22, 22, 128)       0         \n",
      "_________________________________________________________________\n",
      "conv2d_77 (Conv2D)           (None, 20, 20, 64)        73792     \n",
      "_________________________________________________________________\n",
      "batch_normalization_28 (Batc (None, 20, 20, 64)        80        \n",
      "_________________________________________________________________\n",
      "conv2d_78 (Conv2D)           (None, 16, 16, 32)        51232     \n",
      "_________________________________________________________________\n",
      "dropout_48 (Dropout)         (None, 16, 16, 32)        0         \n",
      "_________________________________________________________________\n",
      "max_pooling2d_44 (MaxPooling (None, 16, 16, 32)        0         \n",
      "_________________________________________________________________\n",
      "conv2d_79 (Conv2D)           (None, 14, 14, 32)        9248      \n",
      "_________________________________________________________________\n",
      "dropout_49 (Dropout)         (None, 14, 14, 32)        0         \n",
      "_________________________________________________________________\n",
      "max_pooling2d_45 (MaxPooling (None, 14, 14, 32)        0         \n",
      "_________________________________________________________________\n",
      "batch_normalization_29 (Batc (None, 14, 14, 32)        56        \n",
      "_________________________________________________________________\n",
      "conv2d_80 (Conv2D)           (None, 13, 13, 16)        2064      \n",
      "_________________________________________________________________\n",
      "batch_normalization_30 (Batc (None, 13, 13, 16)        52        \n",
      "_________________________________________________________________\n",
      "max_pooling2d_46 (MaxPooling (None, 13, 13, 16)        0         \n",
      "_________________________________________________________________\n",
      "conv2d_81 (Conv2D)           (None, 12, 12, 16)        1040      \n",
      "_________________________________________________________________\n",
      "batch_normalization_31 (Batc (None, 12, 12, 16)        48        \n",
      "_________________________________________________________________\n",
      "dropout_50 (Dropout)         (None, 12, 12, 16)        0         \n",
      "_________________________________________________________________\n",
      "max_pooling2d_47 (MaxPooling (None, 6, 6, 16)          0         \n",
      "_________________________________________________________________\n",
      "conv2d_82 (Conv2D)           (None, 4, 4, 8)           1160      \n",
      "_________________________________________________________________\n",
      "max_pooling2d_48 (MaxPooling (None, 2, 2, 8)           0         \n",
      "_________________________________________________________________\n",
      "flatten_16 (Flatten)         (None, 32)                0         \n",
      "_________________________________________________________________\n",
      "dense_31 (Dense)             (None, 256)               8448      \n",
      "_________________________________________________________________\n",
      "dropout_51 (Dropout)         (None, 256)               0         \n",
      "_________________________________________________________________\n",
      "dense_32 (Dense)             (None, 10)                2570      \n",
      "=================================================================\n",
      "Total params: 156,190\n",
      "Trainable params: 156,072\n",
      "Non-trainable params: 118\n",
      "_________________________________________________________________\n"
     ]
    }
   ],
   "source": [
    "model=Sequential()\n",
    "#Adding first layer\n",
    "model.add(Conv2D(128, kernel_size=(7, 7),activation='relu',input_shape=input_shape))\n",
    "model.add(Dropout(0.25))\n",
    "model.add(MaxPooling2D(pool_size=(1, 1)))\n",
    "\n",
    "\n",
    "#Adding Second Layer\n",
    "model.add(Conv2D(64,kernel_size=(3,3),activation='relu'))\n",
    "model.add(BatchNormalization(axis=1))\n",
    "\n",
    "#Adding Third Layer\n",
    "model.add(Conv2D(32,kernel_size=(5,5),activation='relu'))\n",
    "model.add(Dropout(0.5))\n",
    "model.add(MaxPooling2D(pool_size=(1,1)))\n",
    "\n",
    "#Fourth layer\n",
    "model.add(Conv2D(32, kernel_size=(3, 3), activation='relu'))\n",
    "model.add(Dropout(0.25))\n",
    "model.add(MaxPooling2D(pool_size=(1,1)))\n",
    "model.add(BatchNormalization(axis=1))\n",
    "\n",
    "#Fifth layer\n",
    "model.add(Conv2D(16, kernel_size=(2, 2), activation='relu'))\n",
    "model.add(BatchNormalization(axis=1))\n",
    "model.add(MaxPooling2D(pool_size=(1,1)))\n",
    "\n",
    "#Sixth Layer\n",
    "model.add(Conv2D(16,kernel_size=(2,2),activation='relu'))\n",
    "model.add(BatchNormalization(axis=1))\n",
    "model.add(Dropout(0.5))\n",
    "model.add(MaxPooling2D(pool_size=(2,2)))\n",
    "\n",
    "#Seventh Layer\n",
    "model.add(Conv2D(8,kernel_size=(3,3),activation='relu'))\n",
    "model.add(MaxPooling2D(pool_size=(2,2)))\n",
    "\n",
    "#Fully Connected layer\n",
    "#Flattening\n",
    "model.add(Flatten())\n",
    "model.add(Dense(256, activation = \"relu\"))\n",
    "model.add(Dropout(0.25))\n",
    "\n",
    "#Softmax\n",
    "model.add(Dense(num_classes, activation='softmax'))\n",
    "model.summary()"
   ]
  },
  {
   "cell_type": "code",
   "execution_count": 0,
   "metadata": {
    "colab": {
     "base_uri": "https://localhost:8080/",
     "height": 547
    },
    "colab_type": "code",
    "id": "UAU4IV5RHbcN",
    "outputId": "3de47c54-9180-4899-a526-6ef97bc2b8ec"
   },
   "outputs": [
    {
     "name": "stderr",
     "output_type": "stream",
     "text": [
      "W0819 12:30:20.541568 140130769213312 deprecation_wrapper.py:119] From /usr/local/lib/python3.6/dist-packages/keras/optimizers.py:790: The name tf.train.Optimizer is deprecated. Please use tf.compat.v1.train.Optimizer instead.\n",
      "\n",
      "W0819 12:30:20.669526 140130769213312 deprecation.py:323] From /usr/local/lib/python3.6/dist-packages/tensorflow/python/ops/math_grad.py:1250: add_dispatch_support.<locals>.wrapper (from tensorflow.python.ops.array_ops) is deprecated and will be removed in a future version.\n",
      "Instructions for updating:\n",
      "Use tf.where in 2.0, which has the same broadcast rule as np.where\n"
     ]
    },
    {
     "name": "stdout",
     "output_type": "stream",
     "text": [
      "Train on 60000 samples, validate on 10000 samples\n",
      "Epoch 1/12\n",
      "60000/60000 [==============================] - 697s 12ms/step - loss: 0.5350 - acc: 0.8237 - val_loss: 0.1080 - val_acc: 0.9736\n",
      "Epoch 2/12\n",
      "60000/60000 [==============================] - 689s 11ms/step - loss: 0.1094 - acc: 0.9667 - val_loss: 0.0787 - val_acc: 0.9799\n",
      "Epoch 3/12\n",
      "60000/60000 [==============================] - 684s 11ms/step - loss: 0.0792 - acc: 0.9766 - val_loss: 0.0484 - val_acc: 0.9869\n",
      "Epoch 4/12\n",
      "60000/60000 [==============================] - 685s 11ms/step - loss: 0.0635 - acc: 0.9808 - val_loss: 0.0502 - val_acc: 0.9867\n",
      "Epoch 5/12\n",
      "60000/60000 [==============================] - 684s 11ms/step - loss: 0.0550 - acc: 0.9833 - val_loss: 0.0436 - val_acc: 0.9878\n",
      "Epoch 6/12\n",
      "60000/60000 [==============================] - 688s 11ms/step - loss: 0.0486 - acc: 0.9851 - val_loss: 0.0456 - val_acc: 0.9861\n",
      "Epoch 7/12\n",
      "60000/60000 [==============================] - 690s 11ms/step - loss: 0.0455 - acc: 0.9862 - val_loss: 0.0316 - val_acc: 0.9923\n",
      "Epoch 8/12\n",
      "60000/60000 [==============================] - 690s 11ms/step - loss: 0.0431 - acc: 0.9870 - val_loss: 0.0417 - val_acc: 0.9878\n",
      "Epoch 9/12\n",
      "60000/60000 [==============================] - 688s 11ms/step - loss: 0.0417 - acc: 0.9874 - val_loss: 0.0317 - val_acc: 0.9916\n",
      "Epoch 10/12\n",
      "60000/60000 [==============================] - 687s 11ms/step - loss: 0.0366 - acc: 0.9888 - val_loss: 0.0359 - val_acc: 0.9903\n",
      "Epoch 11/12\n",
      "60000/60000 [==============================] - 690s 11ms/step - loss: 0.0359 - acc: 0.9888 - val_loss: 0.0253 - val_acc: 0.9932\n",
      "Epoch 12/12\n",
      "60000/60000 [==============================] - 692s 12ms/step - loss: 0.0324 - acc: 0.9900 - val_loss: 0.0311 - val_acc: 0.9911\n"
     ]
    }
   ],
   "source": [
    "model.compile(loss='categorical_crossentropy', optimizer=Adam(), metrics=['accuracy'])\n",
    "history=model.fit(x_train, y_train,batch_size=batch_size,epochs=epoch,verbose=1,validation_data=(x_test, y_test))"
   ]
  },
  {
   "cell_type": "code",
   "execution_count": 0,
   "metadata": {
    "colab": {
     "base_uri": "https://localhost:8080/",
     "height": 317
    },
    "colab_type": "code",
    "id": "iSNQfZNpHbcP",
    "outputId": "1f7f892d-0ddb-4beb-d0f0-e07a53c02d3d",
    "scrolled": true
   },
   "outputs": [
    {
     "name": "stdout",
     "output_type": "stream",
     "text": [
      "Test score: 0.031061326131038368\n",
      "Test accuracy: 0.9911\n"
     ]
    },
    {
     "data": {
      "image/png": "[encoded data removed]",
      "text/plain": [
       "<Figure size 432x288 with 1 Axes>"
      ]
     },
     "metadata": {
      "tags": []
     },
     "output_type": "display_data"
    }
   ],
   "source": [
    "score = model.evaluate(x_test, y_test, verbose=0) \n",
    "print('Test score:', score[0]) \n",
    "print('Test accuracy:', score[1])\n",
    "\n",
    "fig,ax = plt.subplots(1,1)\n",
    "ax.set_xlabel('epoch') ; ax.set_ylabel('Categorical Crossentropy Loss')\n",
    "\n",
    "# list of epoch numbers\n",
    "x = list(range(1,epoch+1))\n",
    "\n",
    "vy = history.history['val_loss']\n",
    "ty = history.history['loss']\n",
    "plt_dynamic(x, vy, ty, ax)"
   ]
  },
  {
   "cell_type": "markdown",
   "metadata": {},
   "source": [
    "<b>Observations</b>"
   ]
  },
  {
   "cell_type": "code",
   "execution_count": 4,
   "metadata": {},
   "outputs": [
    {
     "name": "stdout",
     "output_type": "stream",
     "text": [
      "+------------------------------------+------------+\n",
      "|            Architecture            | Accuracy-% |\n",
      "+------------------------------------+------------+\n",
      "|   3 layer CNN,kernel size=(3*3)    |    98.6    |\n",
      "|   5 layer CNN,kernel size=(5*5)    |    99.3    |\n",
      "| 7 layer CNN,different kernel sizes |    99.1    |\n",
      "+------------------------------------+------------+\n"
     ]
    }
   ],
   "source": [
    "x = PrettyTable()\n",
    "x.field_names = [\"Architecture\", \"Accuracy-%\"]\n",
    "x.add_row([\"3 layer CNN,kernel size=(3*3)\",\"98.6\"])\n",
    "x.add_row([\"5 layer CNN,kernel size=(5*5)\",\"99.3\"])\n",
    "x.add_row([\"7 layer CNN,different kernel sizes\",\"99.1\"])\n",
    "print(x)"
   ]
  },
  {
   "cell_type": "markdown",
   "metadata": {},
   "source": [
    "<b>3 layer architecture</b>\n",
    "#Conv2d-->Maxpooling-->Conv2d-->BN-->Conv2d-->Maxpooling-->Conv2d-->BN-->Conv2d-->Maxpooling-->Flatten,dense-->Dropout-->softmax\n",
    "\n",
    "<b>5 layer architecture</b>\n",
    "#Conv2d-->drouput-->Conv2d-->dropout-->Maxpooling-->Conv2d-->dropout-->BN-->Conv2d-->Maxpooling-->BN-->#Conv2d-->drouput-->Conv2d-->-->dropout-->Maxpooling-->Conv2d-->dropout-->BN-->Conv2d-->Maxpooling-->Flatten,dense-->Dropout-->Softmax\n",
    "\n",
    "<b>7 layer architecture</b>\n",
    "#Conv2d-->drouput-->Maxpooling-->Conv2d-->dropout-->BN-->Conv2d-->dropout-->Maxpooling-->Conv2d-->dropout-->Maxpooling-->BN-->Conv2d-->BN-->Maxpooling-->Conv2d-->BN-->Dropout-->Maxpooling-->Conv2d-->Maxpooling-->Flatten,dense-->Dropout-->softmax\n",
    "\n",
    "Accuracy got increased while increasing the number of layers,but it slightly reduced on using different kernel sizes with 7 layers compared to 5 layer CNN.\n"
   ]
  }
 ],
 "metadata": {
  "colab": {
   "collapsed_sections": [],
   "name": "CNN_MNIST_assignment_for collab.ipynb",
   "provenance": [],
   "version": "0.3.2"
  },
  "kernelspec": {
   "display_name": "Python 3",
   "language": "python",
   "name": "python3"
  },
  "language_info": {
   "codemirror_mode": {
    "name": "ipython",
    "version": 3
   },
   "file_extension": ".py",
   "mimetype": "text/x-python",
   "name": "python",
   "nbconvert_exporter": "python",
   "pygments_lexer": "ipython3",
   "version": "3.7.3"
  }
 },
 "nbformat": 4,
 "nbformat_minor": 1
}
